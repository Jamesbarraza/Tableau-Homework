{
 "cells": [
  {
   "cell_type": "markdown",
   "metadata": {},
   "source": [
    "# Tableau Homework Analysis"
   ]
  },
  {
   "cell_type": "markdown",
   "metadata": {},
   "source": [
    "## Dashboard 1: \n",
    "### Top 10 Starting Stations and Map of Stations"
   ]
  },
  {
   "cell_type": "markdown",
   "metadata": {},
   "source": [
    "In Dashboard 1 you will find a Stacked Bar Chart that represents the Top 10 Starting Stations and the most popular Ending Stations assoicated with those trips. The different colors represent the different Ending Stations and the size of the colored portion of the bar represents the number of times that destination was used. \n",
    "\n",
    "From this you can start to see different relationships between Starting and Ending Stations. An example would be Hamilton Park and Grove St PATH. For each of these stations the latter is the most frequented destination. I believe this is because Grove St PATH is a public transporation hub and Hamilton Park is a residental area. As such, people are commuting on our bikes to the transporation hub before using the available public transporation. It also makes sense that those same people would then take a bike back home.\n",
    "\n",
    "The Map of the Stations goes on to show a very similar story. The larger the circle the more frequented the station. You can also see that the red circles represent trips that are longer but less frequented as they are smaller. It makes sense that the bikes used downtown would be used more frequently and for shorter trips than the ones further out."
   ]
  },
  {
   "cell_type": "markdown",
   "metadata": {},
   "source": [
    "## Dashboard 2:\n",
    "### Avg Trip Length and Birth Year"
   ]
  },
  {
   "cell_type": "markdown",
   "metadata": {},
   "source": [
    "In Dashboard 2 you find 3 different charts, showing different relationships between Age, Usertype, and Trip Length.\n",
    "\n",
    "The top chart shows that people born between 1985 and 1990 are more likly to purchase a yearly subscribition, while those born in 1969 are more often going to buy a 24 hour or 3-day pass. It also shows that the ones with the annual pass take more but shorter rides.\n",
    "\n",
    "The bottom left chart shows the actual Time/Date, Trip Length and Birth Year of the riders.\n",
    "\n",
    "The bottom right chart shows the Top 10 Stations with the Longest Avg Trips. As you can see they are very different from the Stations in Dashboard 1. These Stations are further from the downtown area of the city which helps to explain why the length of the trips are longer. "
   ]
  },
  {
   "cell_type": "markdown",
   "metadata": {},
   "source": [
    "## Story:"
   ]
  },
  {
   "cell_type": "markdown",
   "metadata": {},
   "source": [
    "The story within the story... after the dashboards you will see 4 bar charts. What these charts show is the relationship between Avg Miles traveled and the different Usertypes broken down Quarterly. \n",
    "\n",
    "I wanted to see when would be the best time for maintance or replacement of the bikes. Year after year you can see that Q1 has the lowest usage and is the ideal time to either replace or fix any bikes that need work. \n",
    "\n",
    "It's also Winter during Q1 and Winter's in New Jersey are not the ideal season to be riding around on a bike! You can also see that the Daily/24 hr passes are still the most frequently purchased. It might be time to start increasing the Marketing budget to try and increase the number of Annual Passes purchased.  "
   ]
  }
 ],
 "metadata": {
  "kernelspec": {
   "display_name": "Python 3",
   "language": "python",
   "name": "python3"
  },
  "language_info": {
   "codemirror_mode": {
    "name": "ipython",
    "version": 3
   },
   "file_extension": ".py",
   "mimetype": "text/x-python",
   "name": "python",
   "nbconvert_exporter": "python",
   "pygments_lexer": "ipython3",
   "version": "3.7.4"
  }
 },
 "nbformat": 4,
 "nbformat_minor": 2
}
